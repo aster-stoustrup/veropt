{
 "cells": [
  {
   "cell_type": "code",
   "execution_count": 19,
   "id": "bc704fea",
   "metadata": {},
   "outputs": [],
   "source": [
    "from typing import TypedDict, Optional"
   ]
  },
  {
   "cell_type": "code",
   "execution_count": 20,
   "id": "f8e0f02e",
   "metadata": {},
   "outputs": [],
   "source": [
    "class TestDict(TypedDict):\n",
    "    key1: str\n",
    "    key2: int\n",
    "    key3: bool\n",
    "    optional: Optional[str] = None"
   ]
  },
  {
   "cell_type": "code",
   "execution_count": 21,
   "id": "a155a88e",
   "metadata": {},
   "outputs": [],
   "source": [
    "test_dict = TestDict(key1=\"value1\", key2=42, key3=True)"
   ]
  },
  {
   "cell_type": "code",
   "execution_count": 22,
   "id": "7ab89b6a",
   "metadata": {},
   "outputs": [
    {
     "data": {
      "text/plain": [
       "{'key1': 'value1', 'key2': 42, 'key3': True}"
      ]
     },
     "execution_count": 22,
     "metadata": {},
     "output_type": "execute_result"
    }
   ],
   "source": [
    "test_dict "
   ]
  },
  {
   "cell_type": "code",
   "execution_count": 9,
   "id": "cec16d9f",
   "metadata": {},
   "outputs": [],
   "source": [
    "class MyClass:\n",
    "    def __init__(self, test_dict: TestDict):\n",
    "        self.test_dict = test_dict\n",
    "\n",
    "    def get_value(self, key: str) -> str:\n",
    "        return self.test_dict.get(key, \"Key not found\")\n",
    "    \n",
    "    def update_value(self, key: str, value: str) -> None:\n",
    "        if key in self.test_dict:\n",
    "            self.test_dict[key] = value\n",
    "        else:\n",
    "            raise KeyError(f\"Key '{key}' not found in the dictionary\")"
   ]
  },
  {
   "cell_type": "code",
   "execution_count": 3,
   "id": "66894507",
   "metadata": {},
   "outputs": [],
   "source": [
    "test_dict = TestDict(key1=\"value1\", key2=42, key3=True)"
   ]
  },
  {
   "cell_type": "code",
   "execution_count": 10,
   "id": "0cab024c",
   "metadata": {},
   "outputs": [],
   "source": [
    "my_class = MyClass(test_dict)"
   ]
  },
  {
   "cell_type": "code",
   "execution_count": 17,
   "id": "85e19243",
   "metadata": {},
   "outputs": [
    {
     "ename": "AttributeError",
     "evalue": "'dict' object has no attribute 'key1'",
     "output_type": "error",
     "traceback": [
      "\u001b[31m---------------------------------------------------------------------------\u001b[39m",
      "\u001b[31mAttributeError\u001b[39m                            Traceback (most recent call last)",
      "\u001b[36mCell\u001b[39m\u001b[36m \u001b[39m\u001b[32mIn[17]\u001b[39m\u001b[32m, line 1\u001b[39m\n\u001b[32m----> \u001b[39m\u001b[32m1\u001b[39m \u001b[43mmy_class\u001b[49m\u001b[43m.\u001b[49m\u001b[43mtest_dict\u001b[49m\u001b[43m.\u001b[49m\u001b[43mkey1\u001b[49m\n",
      "\u001b[31mAttributeError\u001b[39m: 'dict' object has no attribute 'key1'"
     ]
    }
   ],
   "source": [
    "my_class.test_dict.key1"
   ]
  },
  {
   "cell_type": "code",
   "execution_count": 90,
   "id": "87735610",
   "metadata": {},
   "outputs": [],
   "source": [
    "from pydantic import BaseModel\n",
    "import json\n",
    "import os, sys\n",
    "from typing import Self, Union, Optional, Type, TypeVar\n",
    "from abc import abstractmethod\n",
    "\n",
    "T = TypeVar(\"T\", bound=\"Config\")\n",
    "\n",
    "class Config(BaseModel):\n",
    "    # TODO: Better name for this maybe?\n",
    "    #       Make this class:\n",
    "    #       - Be able to load itself from json and save itself to json\n",
    "    #       - Be able to load itself from Self or str\n",
    "    #       - Raise warnings/errors if paths to source jsons are not found\n",
    "    #       - Raise warning (?) and make a path if destination json path does not exist\n",
    "    #       - PS. Check if BaseModel does this already\n",
    "    @classmethod\n",
    "    def load(\n",
    "        cls: Type[T],\n",
    "        source: Optional[Union[str, T]] = None\n",
    "    ) -> T:\n",
    "        \n",
    "        if isinstance(source, str):\n",
    "            return cls.load_from_json(source)\n",
    "        elif isinstance(source, cls):\n",
    "            return source\n",
    "        elif source is None:\n",
    "            return cls.make_default()\n",
    "        \n",
    "    def save_to_json(\n",
    "        self,\n",
    "        config_file: str,\n",
    "        **json_kwargs: dict\n",
    "    ) -> None:\n",
    "        \n",
    "        with open(config_file, \"w\") as f:\n",
    "            f.write(self.model_dump_json(**json_kwargs))\n",
    "\n",
    "    @classmethod\n",
    "    def load_from_json(\n",
    "        cls: Type[T],\n",
    "        path: str\n",
    "    ) -> Self:\n",
    "        \n",
    "        try:  \n",
    "            with open(path, \"r\") as f:\n",
    "                loaded_class = cls.model_validate_json(f.read())\n",
    "        except Exception as e:\n",
    "            print(f\"While reading {path}:{e}\")\n",
    "            sys.exit(1)\n",
    "        \n",
    "        return loaded_class\n",
    "    \n",
    "    @abstractmethod\n",
    "    def make_default(cls: Type[T]) -> Self:\n",
    "        ..."
   ]
  },
  {
   "cell_type": "code",
   "execution_count": 91,
   "id": "ea8afeb9",
   "metadata": {},
   "outputs": [],
   "source": [
    "class TestConfig(Config):\n",
    "    key1: str\n",
    "    key2: int\n",
    "\n",
    "    @classmethod\n",
    "    def make_default(cls) -> Self:\n",
    "        return cls(\n",
    "            key1=\"default_value1\",\n",
    "            key2=42\n",
    "        )"
   ]
  },
  {
   "cell_type": "code",
   "execution_count": 87,
   "id": "32403f21",
   "metadata": {},
   "outputs": [],
   "source": [
    "test_config = TestConfig.load(None)"
   ]
  },
  {
   "cell_type": "code",
   "execution_count": 94,
   "id": "00f90137",
   "metadata": {},
   "outputs": [],
   "source": [
    "test_config.save_to_json(path=\"configs/new_folder2/new_folder3/\", name=\"test_config\")"
   ]
  },
  {
   "cell_type": "code",
   "execution_count": 89,
   "id": "26a78b13",
   "metadata": {},
   "outputs": [
    {
     "name": "stdout",
     "output_type": "stream",
     "text": [
      "While reading configs/test_configs.json:[Errno 2] No such file or directory: 'configs/test_configs.json'\n"
     ]
    },
    {
     "ename": "SystemExit",
     "evalue": "3",
     "output_type": "error",
     "traceback": [
      "An exception has occurred, use %tb to see the full traceback.\n",
      "\u001b[31mSystemExit\u001b[39m\u001b[31m:\u001b[39m 3\n"
     ]
    }
   ],
   "source": [
    "test_config = TestConfig.load(\"configs/test_configs.json\")"
   ]
  },
  {
   "cell_type": "code",
   "execution_count": 79,
   "id": "3e2e9d13",
   "metadata": {},
   "outputs": [
    {
     "data": {
      "text/plain": [
       "TestConfig(key1='default_value1', key2=11)"
      ]
     },
     "execution_count": 79,
     "metadata": {},
     "output_type": "execute_result"
    }
   ],
   "source": [
    "test_config"
   ]
  }
 ],
 "metadata": {
  "kernelspec": {
   "display_name": "veropt",
   "language": "python",
   "name": "python3"
  },
  "language_info": {
   "codemirror_mode": {
    "name": "ipython",
    "version": 3
   },
   "file_extension": ".py",
   "mimetype": "text/x-python",
   "name": "python",
   "nbconvert_exporter": "python",
   "pygments_lexer": "ipython3",
   "version": "3.13.5"
  }
 },
 "nbformat": 4,
 "nbformat_minor": 5
}
