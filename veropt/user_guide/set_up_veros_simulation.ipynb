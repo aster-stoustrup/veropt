{
 "cells": [
  {
   "cell_type": "code",
   "execution_count": 2,
   "id": "35e42e76",
   "metadata": {},
   "outputs": [],
   "source": [
    "from veropt.interfaces.local_simulation import *"
   ]
  },
  {
   "cell_type": "markdown",
   "id": "e8d9e180",
   "metadata": {},
   "source": [
    "VerOpt includes a specialized class for setting up and running Veros simulations with a support for replacing the existing setup parameters. Veros must be installed for the class to run. Veros installation guide can be found [here](https://veros.readthedocs.io/en/latest/introduction/get-started.html).\n",
    "\n"
   ]
  },
  {
   "cell_type": "code",
   "execution_count": null,
   "id": "2e7e49b8",
   "metadata": {},
   "outputs": [],
   "source": [
    "setup_path = \"/path/to/your/setup\"  # Replace with the actual path to your setup\n",
    "setup_name = \"your_setup_name\"  # Replace with the actual name of your setup\n",
    "parameters = {\n",
    "    \"c_k\": 0.1,\n",
    "    \"c_eps\": 20\n",
    "}\n",
    "local_machine_config = {\n",
    "    \"env_name\": \"veros\",  # Name of the conda environment to use\n",
    "    \"path_to_env\": \"/path/to/your/env\",  # Path to the veros environment\n",
    "#     \"veros_path\": \"/Users/martamrozowska/Desktop/veros\",\n",
    "    \"veros_path\": \"veros\", # Path to the Veros installation\n",
    "    \"use_gpu\": False,\n",
    "    \"float_type\": \"float64\",  # or \"float32\"\n",
    "    \"env_manager\": \"conda\"  # or \"venv\"\n",
    "}\n",
    "\n",
    "simulation_controller = VerosSimulationController(\n",
    "    setup_path=setup_path,\n",
    "    setup_name=setup_name,\n",
    "    parameters=parameters,\n",
    "    local_machine_config=local_machine_config\n",
    ")\n",
    "result = simulation_controller.set_up_and_run()\n",
    "print(\"Output file:\", result['stdout_file'])\n",
    "print(\"Error file:\", result['stderr_file'])"
   ]
  }
 ],
 "metadata": {
  "kernelspec": {
   "display_name": "veropt",
   "language": "python",
   "name": "python3"
  },
  "language_info": {
   "codemirror_mode": {
    "name": "ipython",
    "version": 3
   },
   "file_extension": ".py",
   "mimetype": "text/x-python",
   "name": "python",
   "nbconvert_exporter": "python",
   "pygments_lexer": "ipython3",
   "version": "3.13.3"
  }
 },
 "nbformat": 4,
 "nbformat_minor": 5
}
